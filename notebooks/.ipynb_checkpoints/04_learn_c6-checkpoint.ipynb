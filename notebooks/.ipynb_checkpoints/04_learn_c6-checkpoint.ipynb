{
 "cells": [
  {
   "cell_type": "code",
   "execution_count": 46,
   "id": "efd41997-911c-4181-b290-4f2e9a077f53",
   "metadata": {},
   "outputs": [],
   "source": [
    "import torch\n",
    "import torch.nn.functional as F\n",
    "from torch.nn.parameter import Parameter\n",
    "import numpy as np\n",
    "import matplotlib.pyplot as plt\n",
    "from symmetries.training_utils import CnLoader"
   ]
  },
  {
   "cell_type": "code",
   "execution_count": 47,
   "id": "67da81d2-2407-4dce-b640-68b21378c994",
   "metadata": {},
   "outputs": [],
   "source": [
    "# define network\n",
    "\n",
    "class SymNet(torch.nn.Module):\n",
    "    \n",
    "    def __init__(self, n):\n",
    "        super(SymNet, self).__init__()\n",
    "        self.n = n\n",
    "        self.A = Parameter(torch.Tensor(n,n))\n",
    "        self.htheta = torch.nn.Sequential(torch.nn.Linear(1,128), torch.nn.ReLU(),\n",
    "                                         torch.nn.Linear(128,128), torch.nn.ReLU(),\n",
    "                                         torch.nn.Linear(128, 1))\n",
    "        self.reset_parameters()\n",
    "        \n",
    "    def reset_parameters(self):\n",
    "        torch.nn.init._no_grad_normal_(self.A, 0, 0.01)\n",
    "        \n",
    "    def forward(self, f):\n",
    "        A = F.softmax(self.A, dim = 1)\n",
    "        f = f.t()\n",
    "        Af = A@f\n",
    "        Af = Af.t()\n",
    "        Af = Af.flatten().reshape(-1,1)\n",
    "        \n",
    "        hAf = self.htheta(Af)\n",
    "        batch_size = int(len(f.flatten()) / self.n)\n",
    "        hAf = hAf.reshape((batch_size, self.n))\n",
    "        \n",
    "        return A, hAf\n",
    "    \n",
    "    def loss(self, hAf, A, h):\n",
    "        h = h.t()\n",
    "        Ah = A@h\n",
    "        Ah = Ah.t()\n",
    "        mse = F.mse_loss(hAf, Ah).sum(1).mean()\n",
    "        return loss\n",
    "    \n",
    "    def show_A(self):\n",
    "        Anp = self.A.detach().numpy()\n",
    "        plt.matshow(Anp)\n",
    "        plt.show()\n",
    "        plt.close()\n",
    "        return Anp\n",
    "        "
   ]
  },
  {
   "cell_type": "code",
   "execution_count": 48,
   "id": "b33a732c-5902-48a3-a36a-0182ed594e43",
   "metadata": {},
   "outputs": [],
   "source": [
    "# load data\n",
    "data_dir = '/home/chris/projects/symmetries/data'\n",
    "out_name = '/c6_signals.npz'\n",
    "data = np.load(data_dir + out_name)\n",
    "F,H = data['F'], data['H']"
   ]
  },
  {
   "cell_type": "code",
   "execution_count": null,
   "id": "5af3dc9c-3db7-488a-b940-16107100c5e6",
   "metadata": {},
   "outputs": [],
   "source": []
  }
 ],
 "metadata": {
  "kernelspec": {
   "display_name": "Python 3 (ipykernel)",
   "language": "python",
   "name": "python3"
  },
  "language_info": {
   "codemirror_mode": {
    "name": "ipython",
    "version": 3
   },
   "file_extension": ".py",
   "mimetype": "text/x-python",
   "name": "python",
   "nbconvert_exporter": "python",
   "pygments_lexer": "ipython3",
   "version": "3.9.6"
  }
 },
 "nbformat": 4,
 "nbformat_minor": 5
}
