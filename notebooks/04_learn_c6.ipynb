{
 "cells": [
  {
   "cell_type": "code",
   "execution_count": 131,
   "id": "efd41997-911c-4181-b290-4f2e9a077f53",
   "metadata": {},
   "outputs": [],
   "source": [
    "import torch\n",
    "import torch.nn.functional as F\n",
    "from torch.nn.parameter import Parameter\n",
    "import numpy as np\n",
    "import matplotlib.pyplot as plt\n",
    "from symmetries.training_utils import CnLoader"
   ]
  },
  {
   "cell_type": "code",
   "execution_count": 132,
   "id": "67da81d2-2407-4dce-b640-68b21378c994",
   "metadata": {},
   "outputs": [],
   "source": [
    "# define network\n",
    "\n",
    "class SymNet(torch.nn.Module):\n",
    "    \n",
    "    def __init__(self, n):\n",
    "        super(SymNet, self).__init__()\n",
    "        self.n = n\n",
    "        self.A = Parameter(torch.Tensor(n,n))\n",
    "        self.htheta = torch.nn.Sequential(torch.nn.Linear(1,128), torch.nn.ReLU(),\n",
    "                                         torch.nn.Linear(128,128), torch.nn.ReLU(),\n",
    "                                         torch.nn.Linear(128, 1))\n",
    "        self.reset_parameters()\n",
    "        \n",
    "    def reset_parameters(self):\n",
    "        torch.nn.init._no_grad_normal_(self.A, 0, 1)\n",
    "        \n",
    "    def forward(self, f):\n",
    "        A = F.softmax(self.A, dim = 0)\n",
    "        f = f.t()\n",
    "        Af = A@f\n",
    "        Af = Af.t()\n",
    "        Af = Af.flatten().reshape(-1,1)\n",
    "        \n",
    "        hAf = self.htheta(Af)\n",
    "        batch_size = int(len(f.flatten()) / self.n)\n",
    "        hAf = hAf.reshape((batch_size, self.n))\n",
    "        \n",
    "        return A, hAf\n",
    "    \n",
    "    def loss(self, hAf, A, h):\n",
    "        h = h.t()\n",
    "        Ah = A@h\n",
    "        Ah = Ah.t()\n",
    "        mse = F.mse_loss(hAf, Ah, reduction = 'none').sum(1).mean()\n",
    "        #A_reg = A.pow(2).sum()\n",
    "        #total_loss = A_reg + mse\n",
    "        total_loss = mse\n",
    "        return total_loss\n",
    "    \n",
    "    def show_A(self):\n",
    "        Anp = F.softmax(self.A.detach(), dim = 0).numpy()\n",
    "        plt.matshow(Anp)\n",
    "        plt.show()\n",
    "        plt.close()\n",
    "        return Anp\n",
    "        "
   ]
  },
  {
   "cell_type": "code",
   "execution_count": 133,
   "id": "b33a732c-5902-48a3-a36a-0182ed594e43",
   "metadata": {},
   "outputs": [],
   "source": [
    "# load data\n",
    "data_dir = '/home/chris/projects/symmetries/data'\n",
    "out_name = '/c6_signals.npz'\n",
    "data = np.load(data_dir + out_name)\n",
    "Fu,H = data['F'], data['H']"
   ]
  },
  {
   "cell_type": "code",
   "execution_count": 134,
   "id": "5af3dc9c-3db7-488a-b940-16107100c5e6",
   "metadata": {},
   "outputs": [],
   "source": [
    "# build model\n",
    "mod = SymNet(6).double()\n",
    "opt = torch.optim.Adam(mod.parameters(), lr = 1e-2)"
   ]
  },
  {
   "cell_type": "code",
   "execution_count": 135,
   "id": "81562e90-1200-49f1-b1ec-39eb352d2d96",
   "metadata": {},
   "outputs": [],
   "source": [
    "# train\n",
    "tr_cutoff = 5000\n",
    "epochs = 1000\n",
    "batch_size = 32\n",
    "num_examples = 1028\n",
    "ep_losses = []\n",
    "ep_loss = 0\n",
    "\n",
    "H_tr, Fu_tr, H_tst, Fu_tst = H[0:tr_cutoff, :], Fu[0:tr_cutoff, :], H[tr_cutoff:, :], Fu[tr_cutoff:, :]\n",
    "tr_loader, tst_loader = CnLoader(H_tr, Fu_tr, num_examples), CnLoader(H_tst, Fu_tst, num_examples)\n",
    "\n",
    "for ep in range(epochs):\n",
    "    H_tr, Fu_tr = tr_loader.next(batch_size)\n",
    "    A, hAf = mod(Fu_tr)\n",
    "    loss = mod.loss(hAf, A, H_tr)\n",
    "    ep_loss += loss.item()\n",
    "    \n",
    "    loss.backward()\n",
    "    opt.step()\n",
    "    opt.zero_grad()\n",
    "    \n",
    "    if (ep + 1) % (int(num_examples/batch_size)) == 0:\n",
    "        ep_losses.append(ep_loss)\n",
    "        ep_loss = 0"
   ]
  },
  {
   "cell_type": "code",
   "execution_count": 136,
   "id": "350ca47a-b52e-4d3b-ae63-ce1554057163",
   "metadata": {},
   "outputs": [
    {
     "data": {
      "image/png": "[encoded data removed]",
      "text/plain": [
       "<Figure size 432x288 with 1 Axes>"
      ]
     },
     "metadata": {
      "needs_background": "light"
     },
     "output_type": "display_data"
    },
    {
     "data": {
      "image/png": "[encoded data removed]",
      "text/plain": [
       "<Figure size 288x288 with 1 Axes>"
      ]
     },
     "metadata": {
      "needs_background": "light"
     },
     "output_type": "display_data"
    }
   ],
   "source": [
    "plt.plot(ep_losses)\n",
    "plt.show()\n",
    "plt.close()\n",
    "\n",
    "Anp = mod.show_A()"
   ]
  },
  {
   "cell_type": "code",
   "execution_count": null,
   "id": "3169d971-8ac6-4389-b924-e7a20d4d1770",
   "metadata": {},
   "outputs": [],
   "source": []
  }
 ],
 "metadata": {
  "kernelspec": {
   "display_name": "Python 3 (ipykernel)",
   "language": "python",
   "name": "python3"
  },
  "language_info": {
   "codemirror_mode": {
    "name": "ipython",
    "version": 3
   },
   "file_extension": ".py",
   "mimetype": "text/x-python",
   "name": "python",
   "nbconvert_exporter": "python",
   "pygments_lexer": "ipython3",
   "version": "3.9.6"
  }
 },
 "nbformat": 4,
 "nbformat_minor": 5
}
